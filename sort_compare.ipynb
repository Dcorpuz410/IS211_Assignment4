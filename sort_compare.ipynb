{
 "cells": [
  {
   "cell_type": "code",
   "execution_count": null,
   "id": "82d27188-b5d9-431f-8ddc-3eb6bca89b48",
   "metadata": {},
   "outputs": [
    {
     "name": "stdout",
     "output_type": "stream",
     "text": [
      "List Size: 500\n",
      "Insertion Sort took  0.0135484 seconds to run, on average\n",
      "Shell Sort took  0.0016716 seconds to run, on average\n",
      "Python's Sort took  0.0000897 seconds to run, on average\n",
      "\n",
      "List Size: 1000\n",
      "Insertion Sort took  0.0616398 seconds to run, on average\n",
      "Shell Sort took  0.0043950 seconds to run, on average\n",
      "Python's Sort took  0.0002573 seconds to run, on average\n",
      "\n"
     ]
    }
   ],
   "source": [
    "import time\n",
    "import random\n",
    "\n",
    "def insertion_sort(lst):\n",
    "    start_time = time.time()\n",
    "    for i in range(1, len(lst)):\n",
    "        key = lst[i]\n",
    "        j = i - 1\n",
    "        while j >= 0 and key < lst[j]:\n",
    "            lst[j + 1] = lst[j]\n",
    "            j -= 1\n",
    "        lst[j + 1] = key\n",
    "    return time.time() - start_time\n",
    "\n",
    "def shell_sort(lst):\n",
    "    start_time = time.time()\n",
    "    gap = len(lst) // 2\n",
    "\n",
    "    while gap > 0:\n",
    "        for i in range(gap, len(lst)):\n",
    "            temp = lst[i]\n",
    "            j = i\n",
    "            while j >= gap and lst[j - gap] > temp:\n",
    "                lst[j] = lst[j - gap]\n",
    "                j -= gap\n",
    "            lst[j] = temp\n",
    "        gap //= 2\n",
    "\n",
    "    return time.time() - start_time\n",
    "\n",
    "def python_sort(lst):\n",
    "    start_time = time.time()\n",
    "    lst.sort()\n",
    "    return time.time() - start_time\n",
    "\n",
    "def run_sort_tests():\n",
    "    sizes = [500, 1000, 5000]\n",
    "\n",
    "    for size in sizes:\n",
    "        insertion_times = []\n",
    "        shell_times = []\n",
    "        python_times = []\n",
    "\n",
    "        for _ in range(100):\n",
    "            lst = [random.randint(1, 100000) for _ in range(size)]\n",
    "\n",
    "            insertion_lst = lst[:]\n",
    "            shell_lst = lst[:]\n",
    "            python_lst = lst[:]\n",
    "\n",
    "            insertion_times.append(insertion_sort(insertion_lst))\n",
    "            shell_times.append(shell_sort(shell_lst))\n",
    "            python_times.append(python_sort(python_lst))\n",
    "\n",
    "        print(f\"List Size: {size}\")\n",
    "        print(f\"Insertion Sort took {sum(insertion_times)/100:10.7f} seconds to run, on average\")\n",
    "        print(f\"Shell Sort took {sum(shell_times)/100:10.7f} seconds to run, on average\")\n",
    "        print(f\"Python's Sort took {sum(python_times)/100:10.7f} seconds to run, on average\")\n",
    "        print()\n",
    "\n",
    "if __name__ == \"__main__\":\n",
    "    run_sort_tests()"
   ]
  },
  {
   "cell_type": "code",
   "execution_count": null,
   "id": "ceed9dd8-e823-45a9-b4cf-a6c5236c85a7",
   "metadata": {},
   "outputs": [],
   "source": []
  }
 ],
 "metadata": {
  "kernelspec": {
   "display_name": "Python [conda env:base] *",
   "language": "python",
   "name": "conda-base-py"
  },
  "language_info": {
   "codemirror_mode": {
    "name": "ipython",
    "version": 3
   },
   "file_extension": ".py",
   "mimetype": "text/x-python",
   "name": "python",
   "nbconvert_exporter": "python",
   "pygments_lexer": "ipython3",
   "version": "3.12.7"
  }
 },
 "nbformat": 4,
 "nbformat_minor": 5
}
